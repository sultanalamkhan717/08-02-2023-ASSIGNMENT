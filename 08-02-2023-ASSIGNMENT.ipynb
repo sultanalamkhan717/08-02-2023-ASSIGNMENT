{
 "cells": [
  {
   "cell_type": "raw",
   "id": "3be84a76-f692-4bc8-842f-4f45d7e4c28e",
   "metadata": {},
   "source": [
    "#What is Abstraction in OOps? Explain with an example."
   ]
  },
  {
   "cell_type": "code",
   "execution_count": null,
   "id": "f172da65-494b-49a3-9f02-092dae68751d",
   "metadata": {},
   "outputs": [],
   "source": [
    "Abstraction is a fundamental concept of object-oriented programming (OOP)\n",
    "that focuses on showing only the necessary details and hiding the complexity from the user.\n",
    "Abstraction allows us to create complex systems in a simplified and organized manner.\n",
    "\n",
    "In OOP, we can use abstraction to define a set of abstract features that a class can provide,\n",
    "without providing the implementation details of those features.\n",
    "For example, a shape is an abstract entity that can have properties such as color, size, and shape.\n",
    "We can define a base class called \"Shape\" that defines these common properties,\n",
    "and then create subclasses like \"Circle\", \"Square\", and \"Triangle\" that inherit these properties from the base \"Shape\" class."
   ]
  },
  {
   "cell_type": "code",
   "execution_count": null,
   "id": "3c83e9c2-ac94-4a81-a0b2-1810b2b06227",
   "metadata": {},
   "outputs": [],
   "source": [
    "#example\n",
    "\n",
    "\n",
    "public class Main {\n",
    "  public static void main(String[] args) {\n",
    "    Shape circle = new Circle(10, 10, 5);\n",
    "    circle.setColor(\"Red\");\n",
    "    circle.draw();\n",
    "\n",
    "    Shape square = new Square(20, 20, 10);\n",
    "    square.setColor(\"Blue\");\n",
    "    square.draw();\n",
    "  }\n",
    "}"
   ]
  },
  {
   "cell_type": "markdown",
   "id": "7195e2a4-7546-4117-92ee-1bd46f77b9fd",
   "metadata": {},
   "source": [
    "#ANS 2\n"
   ]
  },
  {
   "cell_type": "code",
   "execution_count": null,
   "id": "2be9efbc-9b20-4b62-9d89-c733a7d9ef62",
   "metadata": {},
   "outputs": [],
   "source": [
    "#1 ABSTRACTION\n",
    "\n",
    "In Python, abstraction can be achieved using abstract base classes (ABCs) provided by the abc module.\n",
    "An abstract base class is a class that cannot be instantiated but provides a blueprint for other classes to follow."
   ]
  },
  {
   "cell_type": "code",
   "execution_count": null,
   "id": "30977127-7c25-4609-8062-42d48521cf7e",
   "metadata": {},
   "outputs": [],
   "source": [
    "from abc import ABC, abstractmethod\n",
    "\n"
   ]
  },
  {
   "cell_type": "code",
   "execution_count": 3,
   "id": "fbd4c92c-ddfb-4d8a-86df-8d169eeb649a",
   "metadata": {},
   "outputs": [],
   "source": [
    "ABC = (\"Animal\")"
   ]
  },
  {
   "cell_type": "code",
   "execution_count": 7,
   "id": "80aa2a4c-b839-433a-8d57-eb9a6ce09b4b",
   "metadata": {},
   "outputs": [
    {
     "ename": "TypeError",
     "evalue": "str() argument 'encoding' must be str, not tuple",
     "output_type": "error",
     "traceback": [
      "\u001b[0;31m---------------------------------------------------------------------------\u001b[0m",
      "\u001b[0;31mTypeError\u001b[0m                                 Traceback (most recent call last)",
      "Cell \u001b[0;32mIn[7], line 1\u001b[0m\n\u001b[0;32m----> 1\u001b[0m \u001b[38;5;28;01mclass\u001b[39;00m \u001b[38;5;21;01mAnimal\u001b[39;00m(\u001b[38;5;124m\"\u001b[39m\u001b[38;5;124mabc\u001b[39m\u001b[38;5;124m\"\u001b[39m):\n\u001b[1;32m      2\u001b[0m     \u001b[38;5;28;01mdef\u001b[39;00m \u001b[38;5;21msound\u001b[39m(\u001b[38;5;28mself\u001b[39m):\n\u001b[1;32m      3\u001b[0m         \u001b[38;5;28;01mpass\u001b[39;00m\n",
      "\u001b[0;31mTypeError\u001b[0m: str() argument 'encoding' must be str, not tuple"
     ]
    }
   ],
   "source": [
    "class Animal(\"ABC\"):\n",
    "    def sound(self):\n",
    "        pass\n",
    "\n",
    "class Dog(Animal):\n",
    "    def sound(self):\n",
    "        print(\"Woof!\")\n",
    "\n",
    "class Cat(Animal):\n",
    "    def sound(self):\n",
    "        print(\"Meow!\")\n"
   ]
  },
  {
   "cell_type": "code",
   "execution_count": null,
   "id": "8346a1e8-0fc3-4ad8-8df8-08dab252de07",
   "metadata": {},
   "outputs": [],
   "source": [
    "#2 ENCAPSULATION\n",
    "\n",
    "Encapsulation is a fundamental concept in object-oriented programming that involves bundling data and methods together\n",
    "within a class and restricting access to them from outside the class. \n",
    "In Python, we can achieve encapsulation using access modifiers, such as private and protected attributes."
   ]
  },
  {
   "cell_type": "code",
   "execution_count": 8,
   "id": "4d1e516c-9af9-431e-9473-0713b6e3d1a9",
   "metadata": {},
   "outputs": [],
   "source": [
    "class BankAccount:\n",
    "    def __init__(self, account_number, balance):\n",
    "        self.__account_number = account_number\n",
    "        self.__balance = balance\n",
    "\n",
    "    def deposit(self, amount):\n",
    "        self.__balance += amount\n",
    "\n",
    "    def withdraw(self, amount):\n",
    "        if amount > self.__balance:\n",
    "            raise ValueError(\"Insufficient balance\")\n",
    "        self.__balance -= amount\n",
    "\n",
    "    def get_account_number(self):\n",
    "        return self.__account_number\n",
    "\n",
    "    def get_balance(self):\n",
    "        return self.__balance\n",
    "\n",
    "account = BankAccount(\"123456789\", 1000)\n",
    "\n"
   ]
  },
  {
   "cell_type": "markdown",
   "id": "3f9419a0-32bc-4473-9b57-42fbd65c87a7",
   "metadata": {},
   "source": [
    "#ANSWER 3"
   ]
  },
  {
   "cell_type": "code",
   "execution_count": null,
   "id": "17017df7-d1f2-48a3-979e-a1d787372491",
   "metadata": {},
   "outputs": [],
   "source": [
    "The abc module in Python stands for \"Abstract Base Classes\".\n",
    "It provides a way to define abstract classes in Python and enforce a set of rules for subclasses to follow.\n",
    "\n",
    "An abstract class is a class that cannot be instantiated directly but serves as a blueprint for other classes to follow.\n",
    "Abstract classes define a set of methods that must be implemented by their concrete subclasses.\n",
    "\n",
    "The abc module provides the ABC class as a base class for defining abstract classes.\n",
    "Abstract methods can be defined using the @abstractmethod decorator. \n",
    "Any concrete subclass of the abstract base class must implement all of the abstract methods defined in the abstract base class.\n",
    "\n",
    "The abc module is used for enforcing a set of rules for subclasses to follow.\n",
    "By defining an abstract base class, we can ensure that any concrete subclass follows the same interface and provides the same set of methods.\n",
    "This makes the code more modular, extensible, and easier to maintain."
   ]
  },
  {
   "cell_type": "code",
   "execution_count": 2,
   "id": "29f074c2-d8db-4a10-8ee4-6decf2fbb63e",
   "metadata": {},
   "outputs": [],
   "source": [
    "from abc import ABC, abstractmethod\n",
    "\n",
    "class Animal(ABC):\n",
    "    @abstractmethod\n",
    "    def make_sound(self):\n",
    "        pass\n",
    "\n",
    "class Dog(Animal):\n",
    "    def make_sound(self):\n",
    "        print(\"Woof!\")\n",
    "\n",
    "class Cat(Animal):\n",
    "    def make_sound(self):\n",
    "        print(\"Meow!\")\n"
   ]
  },
  {
   "cell_type": "markdown",
   "id": "204eeaf0-9ac2-4135-b4b3-ec8e9f049be6",
   "metadata": {},
   "source": [
    "#ANSWER 4"
   ]
  },
  {
   "cell_type": "code",
   "execution_count": null,
   "id": "63a161d0-5a6c-42ea-8a35-057ffe445713",
   "metadata": {},
   "outputs": [],
   "source": [
    "In Python, we can achieve data abstraction using access modifiers, \n",
    "such as private and protected attributes,\n",
    "and by using getter and setter methods to access and modify the attributes."
   ]
  },
  {
   "cell_type": "code",
   "execution_count": 3,
   "id": "6303e525-4bd6-44fc-82b6-d845ac3f6e51",
   "metadata": {},
   "outputs": [],
   "source": [
    "class Person:\n",
    "    def __init__(self, name, age):\n",
    "        self._name = name\n",
    "        self._age = age\n",
    "\n",
    "    def get_name(self):\n",
    "        return self._name\n",
    "\n",
    "    def set_name(self, name):\n",
    "        self._name = name\n",
    "\n",
    "    def get_age(self):\n",
    "        return self._age\n",
    "\n",
    "    def set_age(self, age):\n",
    "        self._age = age\n"
   ]
  },
  {
   "cell_type": "code",
   "execution_count": 4,
   "id": "3c3a6318-4273-4f0b-9f25-bf6add32feb1",
   "metadata": {},
   "outputs": [
    {
     "name": "stdout",
     "output_type": "stream",
     "text": [
      "Name: Alice, Age: 30\n"
     ]
    }
   ],
   "source": [
    "person = Person(\"Alice\", 30)\n",
    "print(f\"Name: {person.get_name()}, Age: {person.get_age()}\")"
   ]
  },
  {
   "cell_type": "markdown",
   "id": "16a251c3-65ee-4e78-ab88-9666e9b0cf51",
   "metadata": {},
   "source": [
    "#ANSWER 5"
   ]
  },
  {
   "cell_type": "code",
   "execution_count": null,
   "id": "b118977b-8c3a-4399-bef7-b7d1005e6378",
   "metadata": {},
   "outputs": [],
   "source": [
    "No, we cannot create an instance of an abstract class in Python.\n",
    "An abstract class is a class that cannot be instantiated directly but serves as a blueprint for other classes to follow.\n",
    "An abstract class defines a set of methods that must be implemented by their concrete subclasses.\n",
    "\n",
    "In Python, we can use the abc module to define abstract base classes.\n",
    "The ABC class provided by the abc module can be used as a base class for defining abstract classes.\n",
    "Abstract methods can be defined using the @abstractmethod decorator.\n",
    "Any concrete subclass of the abstract base class must implement all of the abstract methods defined in the abstract base class."
   ]
  },
  {
   "cell_type": "code",
   "execution_count": 7,
   "id": "5dda2ac1-9250-4ba9-86aa-d297447d12cd",
   "metadata": {},
   "outputs": [],
   "source": [
    "from abc import ABC, abstractmethod\n",
    "\n",
    "class Animal(ABC):\n",
    "    @abstractmethod\n",
    "    def make_sound(self):\n",
    "        pass\n",
    "\n",
    "class Dog(Animal):\n",
    "    def make_sound(self):\n",
    "        print(\"Woof!\")\n",
    "\n",
    "class Cat(Animal):\n",
    "    def make_sound(self):\n",
    "        print(\"Meow!\")"
   ]
  },
  {
   "cell_type": "code",
   "execution_count": 8,
   "id": "85ed9939-0add-480e-9d17-8a87ba895e83",
   "metadata": {},
   "outputs": [
    {
     "name": "stdout",
     "output_type": "stream",
     "text": [
      "Woof!\n"
     ]
    }
   ],
   "source": [
    "dog = Dog()\n",
    "dog.make_sound()\n",
    "\n"
   ]
  },
  {
   "cell_type": "code",
   "execution_count": 9,
   "id": "66ab3153-4468-4e6c-99e4-b4f9b0167011",
   "metadata": {},
   "outputs": [
    {
     "name": "stdout",
     "output_type": "stream",
     "text": [
      "Meow!\n"
     ]
    }
   ],
   "source": [
    "cat = Cat()\n",
    "cat.make_sound()"
   ]
  },
  {
   "cell_type": "code",
   "execution_count": null,
   "id": "0e399f2c-4038-4e41-bd3f-24227b7250ab",
   "metadata": {},
   "outputs": [],
   "source": []
  }
 ],
 "metadata": {
  "kernelspec": {
   "display_name": "Python 3 (ipykernel)",
   "language": "python",
   "name": "python3"
  },
  "language_info": {
   "codemirror_mode": {
    "name": "ipython",
    "version": 3
   },
   "file_extension": ".py",
   "mimetype": "text/x-python",
   "name": "python",
   "nbconvert_exporter": "python",
   "pygments_lexer": "ipython3",
   "version": "3.10.8"
  }
 },
 "nbformat": 4,
 "nbformat_minor": 5
}
